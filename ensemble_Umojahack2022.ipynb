{
  "nbformat": 4,
  "nbformat_minor": 0,
  "metadata": {
    "colab": {
      "name": "ensemble Umojahack2022.ipynb",
      "provenance": []
    },
    "kernelspec": {
      "name": "python3",
      "display_name": "Python 3"
    },
    "language_info": {
      "name": "python"
    }
  },
  "cells": [
    {
      "cell_type": "code",
      "execution_count": 1,
      "metadata": {
        "id": "Ovp9hKGC3g8P"
      },
      "outputs": [],
      "source": [
        "import pandas as pd\n"
      ]
    },
    {
      "cell_type": "code",
      "source": [
        "sub4=pd.read_csv('/content/sample_submission17.csv')\n",
        "sub5=pd.read_csv('/content/sample_submission19.csv')\n",
        "sub6=pd.read_csv('/content/sample_submission20.csv')\n",
        "sub7=pd.read_csv('/content/sample_submission21.csv')"
      ],
      "metadata": {
        "id": "e0Z0Rb2X4cW6"
      },
      "execution_count": 15,
      "outputs": []
    },
    {
      "cell_type": "code",
      "source": [
        "sub=pd.DataFrame()\n",
        "sub['ID']=sub1['ID']\n",
        "sub['Signal']=(sub6['Signal']+sub4['Signal']+sub5['Signal']+sub7['Signal'])/4\n",
        "sub['Signal']=sub['Signal'].clip(lower=-1)\n",
        "sub.to_csv(\"./ensemble.csv\",index=False)"
      ],
      "metadata": {
        "id": "wCl38W5y42la"
      },
      "execution_count": 17,
      "outputs": []
    }
  ]
}